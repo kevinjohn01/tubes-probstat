{
 "cells": [
  {
   "attachments": {},
   "cell_type": "markdown",
   "metadata": {},
   "source": [
    "<p align=\"center\"><b>5. UJI HIPOTESIS DUA SAMPEL</b></p>"
   ]
  },
  {
   "cell_type": "code",
   "execution_count": 3,
   "metadata": {},
   "outputs": [],
   "source": [
    "import statistics as stat\n",
    "import pandas as pd\n",
    "import math as math\n",
    "import scipy as scipy\n",
    "\n",
    "anggur = pd.read_csv(\"anggur.csv\")"
   ]
  },
  {
   "cell_type": "code",
   "execution_count": 4,
   "metadata": {},
   "outputs": [],
   "source": [
    "def getTvalue(a, v, upper):\n",
    "    if (upper == True):\n",
    "        t = scipy.stats.t.ppf(q=1-a, df=v)\n",
    "    else:\n",
    "        t = scipy.stats.t.ppf(q=a, df=v)\n",
    "    return (t)\n",
    "\n",
    "def getPvalue(t, v):\n",
    "    p = scipy.stats.t.sf(abs(t), v)\n",
    "    return (p)\n",
    "\n",
    "def TwoTailedMeanTest(t, ta1, ta2):\n",
    "    print(\"HASIL TES DENGAN CRITICAL REGION:\")\n",
    "    print(f\"Nilai statistik (t): {t}\")\n",
    "    print(f\"Daerah kritis:  t < {ta1}  atau  t > {ta2}\")\n",
    "    \n",
    "    if (t < ta1 or t > ta2):\n",
    "        print(\"H₀ ditolak karena t berada di dalam daerah kritis\")\n",
    "    else:\n",
    "        print(\"H₀ diterima karena t berada di luar daerah kritis\")"
   ]
  },
  {
   "attachments": {},
   "cell_type": "markdown",
   "metadata": {},
   "source": [
    "a. Kolom \"fixed acidity\" dibagi menjadi dua bagian sama rata. Apakah rata-rata bagian awal dan akhir sama?\n",
    "1. Hipotesis Nol<br/>\n",
    "H₀ :&nbsp; &nbsp; μ₁ = μ₂\n",
    "\n",
    "2. Hipotesis Alternatif<br/>\n",
    "H₁ :&nbsp; &nbsp; μ₁ ≠ μ₂\n",
    "\n",
    "3. Nilai Signifikan<br/>\n",
    "α = 0.05\n",
    "\n",
    "4. Uji Statistik<br/>\n",
    "Uji statistik yang sesuai adalah <b>uji hipotesis rata-rata dua sampel,<br/><i>two-tailed</i>, dengan σ₁ = σ₂, namun tidak diketahui nilainya</b>.<br/>\n",
    "Kedua standar deviasi (σ) sama karena kedua sampel diambil dari kolom yang sama.<br/><br/>\n",
    "Daerah kritis: t < -t(α/2)  atau  t > t(α/2)<br/>\n",
    "&nbsp; &nbsp; &nbsp; &nbsp; &nbsp; &nbsp; &nbsp; &nbsp; &nbsp; &nbsp; &nbsp; <b>t < -t(0.025)</b>  atau  <b>t > t(0.025)</b>"
   ]
  },
  {
   "cell_type": "code",
   "execution_count": 5,
   "metadata": {},
   "outputs": [
    {
     "name": "stdout",
     "output_type": "stream",
     "text": [
      "HASIL TES DENGAN CRITICAL REGION:\n",
      "Nilai statistik (t): 0.8226670359524246\n",
      "Daerah kritis:  t < -1.962343846216334  atau  t > 1.9623438462163336\n",
      "H₀ diterima karena t berada di luar daerah kritis\n",
      "\n",
      "HASIL TES DENGAN P-VALUE:\n",
      "p-Value = 0.20544694030886113\n",
      "H₀ diterima karena p-value lebih besar dari α\n"
     ]
    }
   ],
   "source": [
    "sample1 = anggur[\"fixed acidity\"][0:500]\n",
    "sample2 = anggur[\"fixed acidity\"][500:1000]\n",
    "\n",
    "n1 = sample1.count()\n",
    "n2 = sample2.count()\n",
    "v = n1 + n2 - 2\n",
    "s1 = sample1.std()\n",
    "s2 = sample2.std()\n",
    "\n",
    "sp_numerator = math.sqrt(((n1-1) * s1**2) + ((n2-1) * s2**2))\n",
    "sp = sp_numerator / v\n",
    "\n",
    "d0 = 0  #selisih kedua rata-rata\n",
    "t_numerator = (sample1.mean() - sample2.mean()) - d0\n",
    "t_denominator = sp * math.sqrt((1/n1) + (1/n2))\n",
    "t = t_numerator / t_denominator\n",
    "\n",
    "#MENGGUNAKAN CRITICAL REGION\n",
    "lb = getTvalue(0.025, v, False)\n",
    "ub = getTvalue(0.025, v, True)\n",
    "TwoTailedMeanTest(t, lb, ub)\n",
    "\n",
    "print(\"\")\n",
    "\n",
    "#MENGGUNAKAN P-VALUE\n",
    "pValue = getPvalue(t, v)\n",
    "print(\"HASIL TES DENGAN P-VALUE:\")\n",
    "print(f\"p-Value = {pValue}\")\n",
    "if (pValue < 0.05):\n",
    "    print(\"H₀ ditolak karena p-value lebih kecil dari α\")\n",
    "else:\n",
    "    print(\"H₀ diterima karena p-value lebih besar dari α\")"
   ]
  },
  {
   "attachments": {},
   "cell_type": "markdown",
   "metadata": {},
   "source": [
    "b. Kolom \"chlorides\" dibagi menjadi dua bagian sama rata. Apakah rata-rata bagian awal lebih besar 0.001?\n",
    "1. Hipotesis Nol<br/>\n",
    "H₀ :&nbsp; &nbsp; μ₁ - μ₂ = 0.001\n",
    "\n",
    "2. Hipotesis Alternatif<br/>\n",
    "H₁ :&nbsp; &nbsp; μ₁ - μ₂ ≠ 0.001\n",
    "\n",
    "3. Nilai Signifikan<br/>\n",
    "α = 0.05\n",
    "\n",
    "4. Uji Statistik<br/>\n",
    "Uji statistik yang sesuai adalah <b>uji hipotesis rata-rata dua sampel,<br/><i>two-tailed</i>, dengan σ₁ = σ₂, namun tidak diketahui nilainya</b>.<br/>\n",
    "Kedua standar deviasi (σ) sama karena kedua sampel diambil dari kolom yang sama.<br/><br/>\n",
    "Daerah kritis: t < -t(α/2)  atau  t > t(α/2)<br/>\n",
    "&nbsp; &nbsp; &nbsp; &nbsp; &nbsp; &nbsp; &nbsp; &nbsp; &nbsp; &nbsp; &nbsp; <b>t < -t(0.025)</b>  atau  <b>t > t(0.025)</b>"
   ]
  },
  {
   "cell_type": "code",
   "execution_count": 6,
   "metadata": {},
   "outputs": [
    {
     "name": "stdout",
     "output_type": "stream",
     "text": [
      "HASIL TES DENGAN CRITICAL REGION:\n",
      "Nilai statistik (t): -14.763079716785823\n",
      "Daerah kritis:  t < -1.962343846216334  atau  t > 1.9623438462163336\n",
      "H₀ ditolak karena t berada di dalam daerah kritis\n",
      "\n",
      "HASIL TES DENGAN P-VALUE:\n",
      "p-Value = 4.63458404929346e-45\n",
      "H₀ ditolak karena p-value lebih kecil dari α\n"
     ]
    }
   ],
   "source": [
    "sample1 = anggur[\"chlorides\"][0:500]\n",
    "sample2 = anggur[\"chlorides\"][500:1000]\n",
    "\n",
    "n1 = sample1.count()\n",
    "n2 = sample2.count()\n",
    "v = n1 + n2 - 2\n",
    "s1 = sample1.std()\n",
    "s2 = sample2.std()\n",
    "\n",
    "sp_numerator = math.sqrt(((n1-1) * s1**2) + ((n2-1) * s2**2))\n",
    "sp = sp_numerator / v\n",
    "\n",
    "d0 = 0.001  #selisih kedua rata-rata\n",
    "t_numerator = (sample1.mean() - sample2.mean()) - d0\n",
    "t_denominator = sp * math.sqrt((1/n1) + (1/n2))\n",
    "t = t_numerator / t_denominator\n",
    "\n",
    "#MENGGUNAKAN CRITICAL REGION\n",
    "lb = getTvalue(0.025, v, False)\n",
    "ub = getTvalue(0.025, v, True)\n",
    "TwoTailedMeanTest(t, lb, ub)\n",
    "\n",
    "print(\"\")\n",
    "\n",
    "#MENGGUNAKAN P-VALUE\n",
    "pValue = getPvalue(t, v)\n",
    "print(\"HASIL TES DENGAN P-VALUE:\")\n",
    "print(f\"p-Value = {pValue}\")\n",
    "if (pValue < 0.05):\n",
    "    print(\"H₀ ditolak karena p-value lebih kecil dari α\")\n",
    "else:\n",
    "    print(\"H₀ diterima karena p-value lebih besar dari α\")"
   ]
  },
  {
   "attachments": {},
   "cell_type": "markdown",
   "metadata": {},
   "source": [
    "c. Apakah rata-rata sampel 25 baris pertama \"volatile acidity\" sama dengan 25 baris pertama \"sulphates\"?\n",
    "1. Hipotesis Nol<br/>\n",
    "H₀ :&nbsp; &nbsp; μ₁ = μ₂\n",
    "\n",
    "2. Hipotesis Alternatif<br/>\n",
    "H₁ :&nbsp; &nbsp; μ₁ ≠ μ₂\n",
    "\n",
    "3. Nilai Signifikan<br/>\n",
    "α = 0.05\n",
    "\n",
    "4. Uji Statistik<br/>\n",
    "Uji statistik yang sesuai adalah <b>uji hipotesis rata-rata dua sampel,<br/><i>two-tailed</i>, dengan σ₁ ≠ σ₂, namun tidak diketahui nilainya</b>.<br/>\n",
    "Kedua standar deviasi (σ) tidak sama karena kedua sampel diambil dari kolom yang berbeda.<br/><br/>\n",
    "Daerah kritis: t < -t(α/2)  atau  t > t(α/2)<br/>\n",
    "&nbsp; &nbsp; &nbsp; &nbsp; &nbsp; &nbsp; &nbsp; &nbsp; &nbsp; &nbsp; &nbsp; <b>t < -t(0.025)</b>  atau  <b>t > t(0.025)</b>"
   ]
  },
  {
   "cell_type": "code",
   "execution_count": 7,
   "metadata": {},
   "outputs": [
    {
     "name": "stdout",
     "output_type": "stream",
     "text": [
      "HASIL TES DENGAN CRITICAL REGION:\n",
      "Nilai statistik (t): -2.63748216767487\n",
      "Daerah kritis:  t < -2.0159281966921947  atau  t > 2.0159281966921943\n",
      "H₀ ditolak karena t berada di dalam daerah kritis\n",
      "\n",
      "HASIL TES DENGAN P-VALUE:\n",
      "p-Value = 0.005767044311829208\n",
      "H₀ ditolak karena p-value lebih kecil dari α\n"
     ]
    }
   ],
   "source": [
    "sample1 = anggur[\"volatile acidity\"][0:25]\n",
    "sample2 = anggur[\"sulphates\"][0:25]\n",
    "\n",
    "n1 = sample1.count()\n",
    "n2 = sample2.count()\n",
    "s1 = sample1.std()\n",
    "s2 = sample2.std()\n",
    "\n",
    "v_numerator = ((s1**2 / n1) + (s2**2 / n2))**2\n",
    "v_denominator = ((s1**2/n1)**2 / (n1-1)) + ((s2**2/n2)**2 / (n2-1))\n",
    "v = v_numerator / v_denominator\n",
    "\n",
    "d0 = 0  #selisih kedua rata-rata\n",
    "t_numerator = (sample1.mean() - sample2.mean()) - d0\n",
    "t_denominator = math.sqrt((s1**2 / n1) + (s2**2 /n2))\n",
    "t = t_numerator / t_denominator\n",
    "\n",
    "#MENGGUNAKAN CRITICAL REGION\n",
    "lb = getTvalue(0.025, v, False)\n",
    "ub = getTvalue(0.025, v, True)\n",
    "TwoTailedMeanTest(t, lb, ub)\n",
    "\n",
    "print(\"\")\n",
    "\n",
    "#MENGGUNAKAN P-VALUE\n",
    "pValue = getPvalue(t, v)\n",
    "print(\"HASIL TES DENGAN P-VALUE:\")\n",
    "print(f\"p-Value = {pValue}\")\n",
    "if (pValue < 0.05):\n",
    "    print(\"H₀ ditolak karena p-value lebih kecil dari α\")\n",
    "else:\n",
    "    print(\"H₀ diterima karena p-value lebih besar dari α\")"
   ]
  },
  {
   "attachments": {},
   "cell_type": "markdown",
   "metadata": {},
   "source": [
    "d. Apakah variansi bagian awal \"residual sugar\" sama dengan variansi bagian akhirnya? \n",
    "1. Hipotesis Nol<br/>\n",
    "H₀ :&nbsp; &nbsp; σ²₁ = σ²₂\n",
    "\n",
    "2. Hipotesis Alternatif<br/>\n",
    "H₁ :&nbsp; &nbsp; σ²₁ ≠ σ²₂\n",
    "\n",
    "3. Nilai Signifikan<br/>\n",
    "α = 0.05\n",
    "\n",
    "4. Uji Statistik<br/>\n",
    "Uji statistik yang sesuai adalah <b>uji hipotesis variansi dua sampel, <i>two-tailed</i></b>.<br/>\n",
    "Daerah kritis: f < f(1-(α/2))(v₁,v₂)  atau  f > f(α/2)(v₁,v₂)<br/>\n",
    "&nbsp; &nbsp; &nbsp; &nbsp; &nbsp; &nbsp; &nbsp; &nbsp; &nbsp; &nbsp; &nbsp; <b>f < f(0.075)(v₁,v₂)</b>  atau  <b>f > f(0.025)(v₁,v₂)</b>"
   ]
  },
  {
   "cell_type": "code",
   "execution_count": 24,
   "metadata": {},
   "outputs": [
    {
     "name": "stdout",
     "output_type": "stream",
     "text": [
      "HASIL TES DENGAN CRITICAL REGION:\n",
      "Nilai statistik (f): 0.9420041066941616\n",
      "Daerah kritis:  f < 1.1921721116023336  atau  f > 0.8388182313415903\n",
      "H₀ ditolak karena f berada di dalam daerah kritis\n",
      "\n",
      "HASIL TES DENGAN P-VALUE:\n",
      "p-Value = 0.7474945448320418\n",
      "H₀ diterima karena p-value lebih besar dari α\n"
     ]
    }
   ],
   "source": [
    "sample1 = anggur[\"residual sugar\"][0:500]\n",
    "sample2 = anggur[\"residual sugar\"][500:1000]\n",
    "\n",
    "n1 = sample1.count()\n",
    "n2 = sample2.count()\n",
    "v1 = n1 - 1\n",
    "v2 = n2 - 2\n",
    "s1 = sample1.std()\n",
    "s2 = sample2.std()\n",
    "\n",
    "#MENGGUNAKAN CRITICAL REGION\n",
    "f = s1**2 / s2**2\n",
    "b1 = scipy.stats.f.ppf((1-0.025), v1, v2)\n",
    "b2 = scipy.stats.f.ppf(0.025, v1, v2)\n",
    "print(\"HASIL TES DENGAN CRITICAL REGION:\")\n",
    "print(f\"Nilai statistik (f): {f}\")\n",
    "print(f\"Daerah kritis:  f < {b1}  atau  f > {b2}\")\n",
    "\n",
    "if (f < b1 or f > b2):\n",
    "    print(\"H₀ ditolak karena f berada di dalam daerah kritis\")\n",
    "else:\n",
    "    print(\"H₀ diterima karena f berada di luar daerah kritis\")\n",
    "    \n",
    "\n",
    "print(\"\")\n",
    "\n",
    "#MENGGUNAKAN P-VALUE\n",
    "pValue = scipy.stats.f.sf(f, v1, v2)\n",
    "print(\"HASIL TES DENGAN P-VALUE:\")\n",
    "print(f\"p-Value = {pValue}\")\n",
    "if (pValue < 0.05):\n",
    "    print(\"H₀ ditolak karena p-value lebih kecil dari α\")\n",
    "else:\n",
    "    print(\"H₀ diterima karena p-value lebih besar dari α\")"
   ]
  }
 ],
 "metadata": {
  "kernelspec": {
   "display_name": "Python 3",
   "language": "python",
   "name": "python3"
  },
  "language_info": {
   "codemirror_mode": {
    "name": "ipython",
    "version": 3
   },
   "file_extension": ".py",
   "mimetype": "text/x-python",
   "name": "python",
   "nbconvert_exporter": "python",
   "pygments_lexer": "ipython3",
   "version": "3.11.0"
  },
  "orig_nbformat": 4
 },
 "nbformat": 4,
 "nbformat_minor": 2
}
