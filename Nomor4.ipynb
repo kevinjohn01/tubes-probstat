{
 "cells": [
  {
   "attachments": {},
   "cell_type": "markdown",
   "metadata": {},
   "source": [
    "4. Melakukan test hipotesis 1 sampel, <br>\n",
    "a. Nilai rata-rata pH di atas 3.29? <br>\n",
    "b. Nilai rata-rata Residual Sugar tidak sama dengan 2.50? <br>\n",
    "c. Nilai rata-rata 150 baris pertama kolom sulphates bukan 0.65? <br>\n",
    "d. Nilai rata-rata total sulfur dioxide di bawah 35? <br>\n",
    "e. Proporsi nilai total sulfur dioxide yang lebih dari 40, adalah tidak sama dengan 50% ? <br>"
   ]
  },
  {
   "cell_type": "code",
   "execution_count": 191,
   "metadata": {},
   "outputs": [],
   "source": [
    "import pandas as pd \n",
    "import matplotlib.pyplot as plt\n",
    "from scipy import stats\n",
    "import math\n",
    "\n",
    "anggur = pd.read_csv(\"anggur.csv\")\n",
    "\n",
    "def tvalue(mean,data):\n",
    "    meanSample = data.mean()\n",
    "    stdSample = data.std()\n",
    "    return (meanSample-mean)*math.sqrt(data.count())/stdSample\n",
    "\n",
    "def getTvalue(a,v):\n",
    "    return stats.t.ppf(q=a,df=v)\n",
    "\n",
    "def getPvalue(t_value,v):\n",
    "    return stats.t.sf(abs(t_value),v)"
   ]
  },
  {
   "attachments": {},
   "cell_type": "markdown",
   "metadata": {},
   "source": [
    "a. Nilai rata-rata pH di atas 3.29? <br>\n",
    "    1. Hipotesis nol <br>\n",
    "    H0: µ = 3.29  (Hipotesis nol, rata-rata pH = 3.29) <br>\n",
    "    <br>\n",
    "    2. Hipotesis alternatif <br> \n",
    "    H1: µ > 3.29 (Hipotesis alternatif, rata-rata pH > 3.29) <br>\n",
    "    <br>\n",
    "    3. Nilai signifikan <br>\n",
    "    α = 0.05 (Significant value, alfa = 0.05) <br>\n",
    "    <br>\n",
    "    4. Uji statistik yang sesuai, daerah kritis <br>\n",
    "    karena data terdiri dari 1 sampel dan standar deviasi tidak diketahui, uji statistik dilakukan dengan T test. <br>\n",
    "    daerah kritis: t<-tα/2 atau t>tα/2  <br>\n",
    "                   t<-z0.025 atau t > z0.025 <br>\n",
    "    <br>\n",
    "    5. Nilai uji statistik dan p-value"
   ]
  },
  {
   "cell_type": "code",
   "execution_count": 192,
   "metadata": {},
   "outputs": [
    {
     "name": "stdout",
     "output_type": "stream",
     "text": [
      "Nilai uji statistik:  4.1037807933651145\n",
      "P-value:  2.197958306386009e-05\n"
     ]
    }
   ],
   "source": [
    "alpha = 0.05 #significant value\n",
    "mean = 3.29 #nilai rata-rata dari hipotesis nol\n",
    "v= anggur[\"pH\"].count()-1 #derajat kebebasan\n",
    "t_value = tvalue(3.29,anggur[\"pH\"])\n",
    "pValue = getPvalue(t_value,v)\n",
    "print(\"Nilai uji statistik: \", t_value)\n",
    "print(\"P-value: \", pValue)"
   ]
  },
  {
   "attachments": {},
   "cell_type": "markdown",
   "metadata": {},
   "source": [
    "6. Evaluasi hipotesis"
   ]
  },
  {
   "cell_type": "code",
   "execution_count": 193,
   "metadata": {},
   "outputs": [
    {
     "name": "stdout",
     "output_type": "stream",
     "text": [
      "Uji P-value\n",
      "Berdasarkan uji hipotesis, H0 ditolak karena p-value lebih kecil dari significant value\n",
      "Uji Critical Region\n",
      "Berdasarkan uji hipotesis, H0 ditolak karena t_value berada dalam critical region t>t0.05\n"
     ]
    }
   ],
   "source": [
    "#6. Evaluasi hipotesis\n",
    "print(\"Uji P-value\")\n",
    "print(\"Berdasarkan uji hipotesis, H0 \", end=\"\")\n",
    "if(pValue< alpha):\n",
    "    print(\"ditolak karena p-value lebih kecil dari significant value\")\n",
    "else:\n",
    "    print(\"tidak ditolak karena p-value lebih besar dari significant value\")\n",
    "\n",
    "upper = abs(getTvalue(alpha,v))\n",
    "print(\"Uji Critical Region\")\n",
    "print(\"Berdasarkan uji hipotesis, H0 \", end=\"\")\n",
    "if(t_value>upper): #Jika t_value masuk ke dalam critical region, H0 ditolak\n",
    "    print(\"ditolak karena t_value berada dalam critical region t>t0.05\")\n",
    "else:\n",
    "    print(\"tidak ditolak karena t_value tidak berada dalam critical region\")"
   ]
  },
  {
   "attachments": {},
   "cell_type": "markdown",
   "metadata": {},
   "source": [
    "b. Nilai rata-rata Residual Sugar tidak sama dengan 2.50? <br>\n",
    "    1. Hipotesis nol <br>\n",
    "    H0: µ = 2.5  #Hipotesis nol, rata-rata Residual Sugar = 2.5 <br>\n",
    "<br>\n",
    "    2. Hipotesis nol <br>\n",
    "    H1: µ ≠ 2.5 #Hipotesis alternatif, rata-rata Residual Sugar ≠ 2.5 <br>\n",
    "<br>\n",
    "    3. Nilai signifikan <br>\n",
    "    α = 0.05 #significant value, alfa = 0.05 <br>\n",
    "<br>\n",
    "    4. Uji statistik yang sesuai, daerah kritis <br>\n",
    "    karena data terdiri dari 1 sampel dan standar deviasi tidak diketahui, uji statistik dilakukan dengan T test. <br>\n",
    "    daerah kritis: t>tα <br>\n",
    "                   t>t0.05<br>\n",
    "<br>\n",
    "    5. Nilai uji statistik dan p-value"
   ]
  },
  {
   "cell_type": "code",
   "execution_count": 194,
   "metadata": {},
   "outputs": [
    {
     "name": "stdout",
     "output_type": "stream",
     "text": [
      "Nilai uji statistik:  2.147961943553952\n",
      "P-value:  0.03195672670861681\n"
     ]
    }
   ],
   "source": [
    "alpha = 0.05 #significant value\n",
    "mean = 2.5 #nilai rata-rata dari hipotesis nol\n",
    "v= anggur[\"residual sugar\"].count()-1 #derajat kebebasan\n",
    "t_value = tvalue(2.5,anggur[\"residual sugar\"])\n",
    "pValue = getPvalue(t_value,v)*2\n",
    "print(\"Nilai uji statistik: \", t_value)\n",
    "print(\"P-value: \", pValue)\n"
   ]
  },
  {
   "attachments": {},
   "cell_type": "markdown",
   "metadata": {},
   "source": [
    "6. Evaluasi hipotesis"
   ]
  },
  {
   "cell_type": "code",
   "execution_count": 195,
   "metadata": {},
   "outputs": [
    {
     "name": "stdout",
     "output_type": "stream",
     "text": [
      "Uji P-value\n",
      "Berdasarkan uji hipotesis, H0 ditolak karena p-value lebih kecil dari significant value\n",
      "Uji Critical Region\n",
      "Berdasarkan uji hipotesis, H0 ditolak karena t_value berada pada critical region  t > t0.025\n"
     ]
    }
   ],
   "source": [
    "#6. Evaluasi hipotesis\n",
    "print(\"Uji P-value\")\n",
    "print(\"Berdasarkan uji hipotesis, H0 \", end=\"\")\n",
    "if(pValue< alpha):\n",
    "    print(\"ditolak karena p-value lebih kecil dari significant value\")\n",
    "else:\n",
    "    print(\"tidak ditolak karena p-value lebih besar dari significant value\")\n",
    "\n",
    "upper = abs(getTvalue(alpha,v))\n",
    "lower = upper*(-1)\n",
    "print(\"Uji Critical Region\")\n",
    "print(\"Berdasarkan uji hipotesis, H0 \", end=\"\")\n",
    "if(t_value<lower or t_value>upper): #Jika t_value masuk ke dalam critical region, H0 ditolak\n",
    "    print(\"ditolak karena\", end=\" \")\n",
    "    if (t_value<lower):\n",
    "        print(\"t_value berada pada critical region  t < t0.025\")\n",
    "    else:\n",
    "        print(\"t_value berada pada critical region  t > t0.025\")\n",
    "else:\n",
    "    print(\"tidak ditolak karena tidak berada pada ciritcal region\")"
   ]
  },
  {
   "attachments": {},
   "cell_type": "markdown",
   "metadata": {},
   "source": [
    "c. Nilai rata-rata 150 baris pertama kolom sulphates bukan 0.65? <br>\n",
    "    1. Hipotesis nol <br>\n",
    "    H0: µ = 0.65  #Hipotesis nol, rata-rata Sulphates = 0.65 <br>\n",
    "<br>\n",
    "    2. Hipotesis alternatif <br>\n",
    "    H1: µ ≠ 0.65 #Hipotesis alternatif, rata-rata Sulphates ≠ 0.65 <br>\n",
    "<br>\n",
    "    3. Nilai signifikan <br>\n",
    "    α = 0.05 #significant value, alfa = 0.05 <br>\n",
    "<br>\n",
    "    4. Uji statistik yang sesuai, daerah kritis <br>\n",
    "    karena data terdiri dari 1 sampel dan standar deviasi tidak diketahui, uji statistik dilakukan dengan T test. <br>\n",
    "    daerah kritis: t<-tα/2 atau t>tα/2 <br>\n",
    "                   t<-z0.025 atau t > z0.025<br>\n",
    "<br>\n",
    "    5. Nilai uji statistik dan p-value"
   ]
  },
  {
   "cell_type": "code",
   "execution_count": 196,
   "metadata": {},
   "outputs": [
    {
     "name": "stdout",
     "output_type": "stream",
     "text": [
      "Nilai uji statistik:  -4.964843393315917\n",
      "P-value:  1.8590151212371923e-06\n"
     ]
    }
   ],
   "source": [
    "#5. Menghitung nilai uji statistik dan p-value\n",
    "alpha = 0.05 #significant value\n",
    "mean = 0.65 #nilai rata-rata dari hipotesis nol\n",
    "v= anggur[\"sulphates\"][:150].count()-1 #derajat kebebasan\n",
    "t_value = tvalue(mean,anggur[\"sulphates\"][:150])\n",
    "pValue = getPvalue(t_value,v)*2\n",
    "print(\"Nilai uji statistik: \", t_value)\n",
    "print(\"P-value: \", pValue)"
   ]
  },
  {
   "attachments": {},
   "cell_type": "markdown",
   "metadata": {},
   "source": [
    "6. Evaluasi Hipotesis"
   ]
  },
  {
   "cell_type": "code",
   "execution_count": 197,
   "metadata": {},
   "outputs": [
    {
     "name": "stdout",
     "output_type": "stream",
     "text": [
      "Uji P-value\n",
      "Berdasarkan uji hipotesis, H0 ditolak karena p-value lebih kecil dari significant value\n",
      "Uji Critical Region\n",
      "Berdasarkan uji hipotesis, H0 ditolak karena t_value berada pada critical region  t < t0.025\n"
     ]
    }
   ],
   "source": [
    "#6. Evaluasi hipotesis\n",
    "print(\"Uji P-value\")\n",
    "print(\"Berdasarkan uji hipotesis, H0 \", end=\"\")\n",
    "if(pValue< alpha):\n",
    "    print(\"ditolak karena p-value lebih kecil dari significant value\")\n",
    "else:\n",
    "    print(\"tidak ditolak karena p-value lebih besar dari significant value\")\n",
    "\n",
    "upper = abs(getTvalue(alpha,v))\n",
    "lower = upper*(-1)\n",
    "print(\"Uji Critical Region\")\n",
    "print(\"Berdasarkan uji hipotesis, H0 \", end=\"\")\n",
    "if(t_value<lower or t_value>upper): #Jika t_value masuk ke dalam critical region, H0 ditolak\n",
    "    print(\"ditolak karena\", end=\" \")\n",
    "    if (t_value<lower):\n",
    "        print(\"t_value berada pada critical region  t < t0.025\")\n",
    "    else:\n",
    "        print(\"t_value berada pada critical region  t > t0.025\")\n",
    "else:\n",
    "    print(\"tidak ditolak karena t_value tidak berada pada critical region\")\n"
   ]
  },
  {
   "attachments": {},
   "cell_type": "markdown",
   "metadata": {},
   "source": [
    "d. Nilai rata-rata total sulfur dioxide di bawah 35? <br>\n",
    "    1. Hipotesis nol <br>\n",
    "    H0: µ = 35  #Hipotesis nol, rata-rata total sulfur dioxide = 35 <br>\n",
    "<br>\n",
    "    2. Hipotesis alternatif <br>\n",
    "    H1: µ < 35 #Hipotesis alternatif, rata-rata total sulfur dioxide < 35 <br>\n",
    "<br>\n",
    "    3. Nilai signifikan <br>\n",
    "    α = 0.05 #significant value, alfa = 0.05 <br>\n",
    "<br>\n",
    "    4. Uji statistik yang sesuai, daerah kritis <br>\n",
    "    karena data terdiri dari 1 sampel dan standar deviasi tidak diketahui, uji statistik dilakukan dengan T test.  <br>\n",
    "    daerah kritis: t<-tα <br>\n",
    "                   t<-t0.05 <br>\n",
    "<br>\n",
    "    5. Nilai uji statistik dan p-value"
   ]
  },
  {
   "cell_type": "code",
   "execution_count": 209,
   "metadata": {},
   "outputs": [
    {
     "name": "stdout",
     "output_type": "stream",
     "text": [
      "Nilai uji statistik:  16.786387372296744\n",
      "P-value:  1.0\n"
     ]
    }
   ],
   "source": [
    "#5. Menghitung nilai uji statistik dan p-value\n",
    "alpha = 0.05 #significant value\n",
    "mean = 35 #nilai rata-rata dari hipotesis nol\n",
    "v= anggur[\"total sulfur dioxide\"].count()-1 #derajat kebebasan\n",
    "t_value = tvalue(mean,anggur[\"total sulfur dioxide\"])\n",
    "pValue = 1-getPvalue(t_value,v)\n",
    "print(\"Nilai uji statistik: \", t_value)\n",
    "print(\"P-value: \", pValue)"
   ]
  },
  {
   "attachments": {},
   "cell_type": "markdown",
   "metadata": {},
   "source": [
    "6. Evaluasi hipotesis"
   ]
  },
  {
   "cell_type": "code",
   "execution_count": 210,
   "metadata": {},
   "outputs": [
    {
     "name": "stdout",
     "output_type": "stream",
     "text": [
      "Uji P-value\n",
      "Berdasarkan uji hipotesis, H0 tidak ditolak karena p-value lebih besar dari significant value\n",
      "1.6463803454275356\n",
      "Uji Critical Region\n",
      "Berdasarkan uji hipotesis, H0 tidak ditolak karena t_value tidak berada pada critical region\n"
     ]
    }
   ],
   "source": [
    "#6. Evaluasi hipotesis\n",
    "print(\"Uji P-value\")\n",
    "print(\"Berdasarkan uji hipotesis, H0 \", end=\"\")\n",
    "if(pValue< alpha):\n",
    "    print(\"ditolak karena p-value lebih kecil dari significant value\")\n",
    "else:\n",
    "    print(\"tidak ditolak karena p-value lebih besar dari significant value\")\n",
    "\n",
    "lower = abs(getTvalue(alpha,v))\n",
    "print(lower)\n",
    "print(\"Uji Critical Region\")\n",
    "print(\"Berdasarkan uji hipotesis, H0 \", end=\"\")\n",
    "if(t_value<lower): #Jika t_value masuk ke dalam critical region, H0 ditolak\n",
    "    print(\"ditolak karena t_value berada pada critical region t<t0.05\")\n",
    "else:\n",
    "    print(\"tidak ditolak karena t_value tidak berada pada critical region\")\n"
   ]
  },
  {
   "attachments": {},
   "cell_type": "markdown",
   "metadata": {},
   "source": [
    "e. Proporsi nilai total sulfur dioxide yang lebih dari 40, adalah tidak sama dengan 50% ? <br>\n",
    "    1. Hipotesis nol <br>\n",
    "    H0: p0 = 0.5 <br>\n",
    "<br>\n",
    "    2. Hipotesis alternatif <br>\n",
    "    H1: p0 ≠ 0.5 <br>\n",
    "<br>\n",
    "    3. Nilai signifikan <br> \n",
    "    α = 0.05 (Significant value, alfa = 0.05) <br>\n",
    "<br>\n",
    "    4. Uji statistik yang sesuai, daerah kritis <br>\n",
    "    uji statistik yang sesuai adalah uji statistik binomial yang didekati dengan normal karena nilai n yang besar <br>\n",
    "    daerah kritis: z<-zα/2 atau z>zα/2 <br>\n",
    "                   z<-z0.025 atau z > z0.025"
   ]
  },
  {
   "cell_type": "code",
   "execution_count": 200,
   "metadata": {},
   "outputs": [
    {
     "name": "stdout",
     "output_type": "stream",
     "text": [
      "Nilai statistik: 0.7589466384404111\n",
      "p-value: 0.447884478264112\n"
     ]
    }
   ],
   "source": [
    "#5. Menghitung nilai uji statistik dan p-value\n",
    "mean = anggur[\"total sulfur dioxide\"][anggur[\"total sulfur dioxide\"]>40].mean()\n",
    "n = anggur[\"total sulfur dioxide\"][anggur[\"total sulfur dioxide\"]>40].count()\n",
    "p = 0.5\n",
    "q = 0.5\n",
    "z = (n- 1000*p)/math.sqrt(1000*p*q)\n",
    "\n",
    "pValue = 1 - stats.norm.cdf(abs(z)) + stats.norm.cdf(-abs(z))\n",
    "#pValue = 1-stats.norm.cdf(z)\n",
    "print(f\"Nilai statistik: {z}\")\n",
    "print(f\"p-value: {pValue}\")"
   ]
  },
  {
   "cell_type": "code",
   "execution_count": 201,
   "metadata": {},
   "outputs": [
    {
     "name": "stdout",
     "output_type": "stream",
     "text": [
      "Uji P-value\n",
      "Berdasarkan uji hipotesis, H0 tidak ditolak karena p-value lebih besar dari significant value\n",
      "Uji Critical Region\n",
      "Berdasarkan uji hipotesis, H0 tidak ditolak karena t_value tidak berada pada critical region\n"
     ]
    }
   ],
   "source": [
    "#6. Evaluasi hipotesis\n",
    "print(\"Uji P-value\")\n",
    "print(\"Berdasarkan uji hipotesis, H0 \", end=\"\")\n",
    "if(pValue< alpha):\n",
    "    print(\"ditolak karena p-value lebih kecil dari significant value\")\n",
    "else:\n",
    "    print(\"tidak ditolak karena p-value lebih besar dari significant value\")\n",
    "\n",
    "upper = stats.norm.cdf(1-0.025)\n",
    "lower = upper*(-1)\n",
    "print(\"Uji Critical Region\")\n",
    "print(\"Berdasarkan uji hipotesis, H0 \", end=\"\")\n",
    "if(z>upper or z<lower): #Jika t_value masuk ke dalam critical region, H0 ditolak\n",
    "    print(\"ditolak karena\", end=\" \")\n",
    "    if (t_value<lower):\n",
    "        print(\"t_value berada pada critical region  t < t0.025\")\n",
    "    else:\n",
    "        print(\"t_value berada pada critical region  t > t0.025\")\n",
    "else:\n",
    "    print(\"tidak ditolak karena t_value tidak berada pada critical region\")"
   ]
  }
 ],
 "metadata": {
  "kernelspec": {
   "display_name": "Python 3",
   "language": "python",
   "name": "python3"
  },
  "language_info": {
   "codemirror_mode": {
    "name": "ipython",
    "version": 3
   },
   "file_extension": ".py",
   "mimetype": "text/x-python",
   "name": "python",
   "nbconvert_exporter": "python",
   "pygments_lexer": "ipython3",
   "version": "3.11.0"
  },
  "orig_nbformat": 4
 },
 "nbformat": 4,
 "nbformat_minor": 2
}
