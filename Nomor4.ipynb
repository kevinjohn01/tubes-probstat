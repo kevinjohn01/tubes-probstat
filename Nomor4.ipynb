{
 "cells": [
  {
   "cell_type": "code",
   "execution_count": null,
   "metadata": {},
   "outputs": [],
   "source": [
    "import pandas as pd\n",
    "import matplotlib.pyplot as plt\n",
    "from scipy import stats\n",
    "\n",
    "anggur = pd.read_csv(\"anggur.csv\")\n",
    "alpha = 0.05\n",
    "statistic, pValue = stats.ttest_1samp(anggur[\"pH\"],3.29)\n",
    "pValue = pValue/2\n",
    "print(\"Nilai uji statistik: \", statistic)\n",
    "print(\"p-Value: \", pValue)\n",
    "print(\"Berdasarkan uji hipotesis, H0 \", end=\"\")\n",
    "if(pValue< alpha):\n",
    "    print(\"ditolak\")\n",
    "else:\n",
    "    print(\"tidak ditolak\")"
   ]
  }
 ],
 "metadata": {
  "kernelspec": {
   "display_name": "Python 3",
   "language": "python",
   "name": "python3"
  },
  "language_info": {
   "codemirror_mode": {
    "name": "ipython",
    "version": 3
   },
   "file_extension": ".py",
   "mimetype": "text/x-python",
   "name": "python",
   "nbconvert_exporter": "python",
   "pygments_lexer": "ipython3",
   "version": "3.11.0"
  },
  "orig_nbformat": 4
 },
 "nbformat": 4,
 "nbformat_minor": 2
}
