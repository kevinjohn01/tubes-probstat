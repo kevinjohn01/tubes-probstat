{
 "cells": [
  {
   "cell_type": "code",
   "execution_count": 6,
   "metadata": {},
   "outputs": [],
   "source": [
    "# Nomor 1\n",
    "# Deskripsi Statistika untuk Setiap Kolom\n",
    "\n",
    "import pandas as pd\n",
    "import statistics as stat\n",
    "\n",
    "# Mengambil file yang akan diolah\n",
    "anggur = pd.read_csv(\"anggur.csv\")\n",
    "\n",
    "stats = anggur.agg(\n",
    "    {\n",
    "        \"fixed acidity\": [\"mean\",\"median\",\"max\",\"min\",\"skew\",\"std\",\"var\",\"kurtosis\"],\n",
    "        \"volatile acidity\": [\"mean\",\"median\",\"max\",\"min\",\"skew\",\"std\",\"var\",\"kurtosis\"],\n",
    "        \"citric acid\": [\"mean\",\"median\",\"max\",\"min\",\"skew\",\"std\",\"var\",\"kurtosis\"],\n",
    "        \"residual sugar\": [\"mean\",\"median\",\"max\",\"min\",\"skew\",\"std\",\"var\",\"kurtosis\"],\n",
    "        \"chlorides\": [\"mean\",\"median\",\"max\",\"min\",\"skew\",\"std\",\"var\",\"kurtosis\"],\n",
    "        \"free sulfur dioxide\": [\"mean\",\"median\",\"max\",\"min\",\"skew\",\"std\",\"var\",\"kurtosis\"],\n",
    "        \"total sulfur dioxide\": [\"mean\",\"median\",\"max\",\"min\",\"skew\",\"std\",\"var\",\"kurtosis\"],\n",
    "        \"density\": [\"mean\",\"median\",\"max\",\"min\",\"skew\",\"std\",\"var\",\"kurtosis\"],\n",
    "        \"pH\": [\"mean\",\"median\",\"max\",\"min\",\"skew\",\"std\",\"var\",\"kurtosis\"],\n",
    "        \"sulphates\": [\"mean\",\"median\",\"max\",\"min\",\"skew\",\"std\",\"var\",\"kurtosis\"],\n",
    "        \"alcohol\": [\"mean\",\"median\",\"max\",\"min\",\"skew\",\"std\",\"var\",\"kurtosis\"],\n",
    "        \"quality\": [\"mean\",\"median\",\"max\",\"min\",\"skew\",\"std\",\"var\",\"kurtosis\"],\n",
    "    }\n",
    ")\n",
    "\n",
    "def statdesc(column):\n",
    "    print(f\"Deskripsi Statistika atribut {column.capitalize()}:\\n\")\n",
    "    print(\"Mean                 : \",stats[column][\"mean\"])\n",
    "    print(\"Median               : \",stats[column][\"median\"])\n",
    "    print(\"Mode                 : \",stat.mode(anggur[column]))\n",
    "    print(\"Standard Deviation   : \",stats[column][\"std\"])\n",
    "    print(\"Variance             : \",stats[column][\"var\"])\n",
    "    print(\"Range                : \",stats[column][\"max\"]-stats[column][\"min\"])\n",
    "    print(\"Maximum              : \",stats[column][\"max\"])\n",
    "    print(\"Minimum              : \",stats[column][\"min\"])\n",
    "    print(\"Kuartil               \")\n",
    "    print(\"   25%               : \",anggur[column].describe()[\"25%\"])\n",
    "    print(\"   50%               : \",anggur[column].describe()[\"50%\"])\n",
    "    print(\"   75%               : \",anggur[column].describe()[\"75%\"])\n",
    "    print(\"IQR                  : \",anggur[column].describe()[\"75%\"]-anggur[column].describe()[\"25%\"])\n",
    "    print(\"Skewness             : \",stats[column][\"skew\"])\n",
    "    print(\"Kurtosis             : \",stats[column][\"kurtosis\"])"
   ]
  },
  {
   "cell_type": "code",
   "execution_count": 7,
   "metadata": {},
   "outputs": [
    {
     "name": "stdout",
     "output_type": "stream",
     "text": [
      "Deskripsi Statistika atribut Fixed acidity:\n",
      "\n",
      "Mean                 :  7.15253\n",
      "Median               :  7.15\n",
      "Mode                 :  6.54\n",
      "Standard Deviation   :  1.2015975764938258\n",
      "Variance             :  1.4438367358358357\n",
      "Range                :  8.17\n",
      "Maximum              :  11.49\n",
      "Minimum              :  3.32\n",
      "Kuartil               \n",
      "   25%               :  6.3774999999999995\n",
      "   50%               :  7.15\n",
      "   75%               :  8.0\n",
      "IQR                  :  1.6225000000000005\n",
      "Skewness             :  -0.028878575532660055\n",
      "Kurtosis             :  -0.019292120932933532\n"
     ]
    }
   ],
   "source": [
    "# Fixed Acid\n",
    "# Mean, median, modus, standar deviasi, variansi, range, minimum, maksimum, kuartil, IQR, skewness, kurtosis\n",
    "statdesc(\"fixed acidity\")"
   ]
  },
  {
   "cell_type": "code",
   "execution_count": 8,
   "metadata": {},
   "outputs": [
    {
     "name": "stdout",
     "output_type": "stream",
     "text": [
      "Deskripsi Statistika atribut Volatile acidity:\n",
      "\n",
      "Mean                 :  0.5208385000000001\n",
      "Median               :  0.52485\n",
      "Mode                 :  0.5546\n",
      "Standard Deviation   :  0.09584827405534951\n",
      "Variance             :  0.009186891639389388\n",
      "Range                :  0.6652\n",
      "Maximum              :  0.8051\n",
      "Minimum              :  0.1399\n",
      "Kuartil               \n",
      "   25%               :  0.4561\n",
      "   50%               :  0.52485\n",
      "   75%               :  0.585375\n",
      "IQR                  :  0.12927499999999997\n",
      "Skewness             :  -0.1976986986092083\n",
      "Kurtosis             :  0.16185290336961788\n"
     ]
    }
   ],
   "source": [
    "# Volatile Acidity\n",
    "# Mean, median, modus, standar deviasi, variansi, range, minimum, maksimum, kuartil, IQR, skewness, kurtosis\n",
    "\n",
    "statdesc(\"volatile acidity\")"
   ]
  },
  {
   "cell_type": "code",
   "execution_count": 9,
   "metadata": {},
   "outputs": [
    {
     "name": "stdout",
     "output_type": "stream",
     "text": [
      "Deskripsi Statistika atribut Citric acid:\n",
      "\n",
      "Mean                 :  0.27051699999999995\n",
      "Median               :  0.2722\n",
      "Mode                 :  0.3019\n",
      "Standard Deviation   :  0.04909837147076348\n",
      "Variance             :  0.0024106500810810814\n",
      "Range                :  0.29290000000000005\n",
      "Maximum              :  0.4096\n",
      "Minimum              :  0.1167\n",
      "Kuartil               \n",
      "   25%               :  0.2378\n",
      "   50%               :  0.2722\n",
      "   75%               :  0.302325\n",
      "IQR                  :  0.064525\n",
      "Skewness             :  -0.045576058685017296\n",
      "Kurtosis             :  -0.1046792495951605\n"
     ]
    }
   ],
   "source": [
    "# Citric Acid\n",
    "# Mean, median, modus, standar deviasi, variansi, range, minimum, maksimum, kuartil, IQR, skewness, kurtosis\n",
    "\n",
    "statdesc(\"citric acid\")"
   ]
  },
  {
   "cell_type": "code",
   "execution_count": 10,
   "metadata": {},
   "outputs": [
    {
     "name": "stdout",
     "output_type": "stream",
     "text": [
      "Deskripsi Statistika atribut Residual sugar:\n",
      "\n",
      "Mean                 :  2.5671036825067595\n",
      "Median               :  2.519430272865794\n",
      "Mode                 :  2.049401312441085\n",
      "Standard Deviation   :  0.9879154365046929\n",
      "Variance             :  0.9759769096842579\n",
      "Range                :  5.5182004097078625\n",
      "Maximum              :  5.550754934723058\n",
      "Minimum              :  0.032554525015195\n",
      "Kuartil               \n",
      "   25%               :  1.896329943488683\n",
      "   50%               :  2.519430272865794\n",
      "   75%               :  3.220873482829786\n",
      "IQR                  :  1.3245435393411031\n",
      "Skewness             :  0.13263808618992312\n",
      "Kurtosis             :  -0.04298003436476261\n"
     ]
    }
   ],
   "source": [
    "# Residual Sugar\n",
    "# Mean, median, modus, standar deviasi, variansi, range, minimum, maksimum, kuartil, IQR, skewness, kurtosis\n",
    "\n",
    "statdesc(\"residual sugar\")"
   ]
  },
  {
   "cell_type": "code",
   "execution_count": 11,
   "metadata": {},
   "outputs": [
    {
     "name": "stdout",
     "output_type": "stream",
     "text": [
      "Deskripsi Statistika atribut Chlorides:\n",
      "\n",
      "Mean                 :  0.08119515250784977\n",
      "Median               :  0.0821669021645236\n",
      "Mode                 :  0.070574489612481\n",
      "Standard Deviation   :  0.020110647243996742\n",
      "Variance             :  0.00040443813257247374\n",
      "Range                :  0.1256351302653488\n",
      "Maximum              :  0.1407575694310583\n",
      "Minimum              :  0.0151224391657095\n",
      "Kuartil               \n",
      "   25%               :  0.06657363190977357\n",
      "   50%               :  0.0821669021645236\n",
      "   75%               :  0.09531150148556258\n",
      "IQR                  :  0.028737869575789013\n",
      "Skewness             :  -0.05131929742072573\n",
      "Kurtosis             :  -0.2465081359240382\n"
     ]
    }
   ],
   "source": [
    "# Chlorides\n",
    "# Mean, median, modus, standar deviasi, variansi, range, minimum, maksimum, kuartil, IQR, skewness, kurtosis\n",
    "\n",
    "statdesc(\"chlorides\")"
   ]
  },
  {
   "cell_type": "code",
   "execution_count": 12,
   "metadata": {},
   "outputs": [
    {
     "name": "stdout",
     "output_type": "stream",
     "text": [
      "Deskripsi Statistika atribut Free sulfur dioxide:\n",
      "\n",
      "Mean                 :  14.907679251029796\n",
      "Median               :  14.860346236568924\n",
      "Mode                 :  16.59381751499067\n",
      "Standard Deviation   :  4.888099705756562\n",
      "Variance             :  23.893518733417388\n",
      "Range                :  27.26784690109891\n",
      "Maximum              :  27.462525424425845\n",
      "Minimum              :  0.194678523326937\n",
      "Kuartil               \n",
      "   25%               :  11.426716949457617\n",
      "   50%               :  14.860346236568924\n",
      "   75%               :  18.313097915395005\n",
      "IQR                  :  6.886380965937388\n",
      "Skewness             :  0.007130415991143398\n",
      "Kurtosis             :  -0.36496364342685306\n"
     ]
    }
   ],
   "source": [
    "# Free Sulfur Dioxide\n",
    "# Mean, median, modus, standar deviasi, variansi, range, minimum, maksimum, kuartil, IQR, skewness, kurtosis\n",
    "\n",
    "statdesc(\"free sulfur dioxide\")"
   ]
  },
  {
   "cell_type": "code",
   "execution_count": 13,
   "metadata": {},
   "outputs": [
    {
     "name": "stdout",
     "output_type": "stream",
     "text": [
      "Deskripsi Statistika atribut Total sulfur dioxide:\n",
      "\n",
      "Mean                 :  40.290150000000004\n",
      "Median               :  40.19\n",
      "Mode                 :  35.2\n",
      "Standard Deviation   :  9.965767376218295\n",
      "Variance             :  99.3165193968969\n",
      "Range                :  66.80999999999999\n",
      "Maximum              :  69.96\n",
      "Minimum              :  3.15\n",
      "Kuartil               \n",
      "   25%               :  33.785\n",
      "   50%               :  40.19\n",
      "   75%               :  47.0225\n",
      "IQR                  :  13.237500000000004\n",
      "Skewness             :  -0.024060026812269975\n",
      "Kurtosis             :  0.06394978916172311\n"
     ]
    }
   ],
   "source": [
    "# Total Sulfur Dioxide\n",
    "# Mean, median, modus, standar deviasi, variansi, range, minimum, maksimum, kuartil, IQR, skewness, kurtosis\n",
    "\n",
    "statdesc(\"total sulfur dioxide\")"
   ]
  },
  {
   "cell_type": "code",
   "execution_count": 14,
   "metadata": {},
   "outputs": [
    {
     "name": "stdout",
     "output_type": "stream",
     "text": [
      "Deskripsi Statistika atribut Density:\n",
      "\n",
      "Mean                 :  0.9959253000000001\n",
      "Median               :  0.996\n",
      "Mode                 :  0.9965\n",
      "Standard Deviation   :  0.0020201809426487133\n",
      "Variance             :  4.081131041041045e-06\n",
      "Range                :  0.013799999999999923\n",
      "Maximum              :  1.0026\n",
      "Minimum              :  0.9888\n",
      "Kuartil               \n",
      "   25%               :  0.9946\n",
      "   50%               :  0.996\n",
      "   75%               :  0.9972\n",
      "IQR                  :  0.0025999999999999357\n",
      "Skewness             :  -0.07688278915513917\n",
      "Kurtosis             :  0.01636562128503849\n"
     ]
    }
   ],
   "source": [
    "# Density\n",
    "# Mean, median, modus, standar deviasi, variansi, range, minimum, maksimum, kuartil, IQR, skewness, kurtosis\n",
    "\n",
    "statdesc(\"density\")"
   ]
  },
  {
   "cell_type": "code",
   "execution_count": 15,
   "metadata": {},
   "outputs": [
    {
     "name": "stdout",
     "output_type": "stream",
     "text": [
      "Deskripsi Statistika atribut Ph:\n",
      "\n",
      "Mean                 :  3.30361\n",
      "Median               :  3.3\n",
      "Mode                 :  3.34\n",
      "Standard Deviation   :  0.10487548220040166\n",
      "Variance             :  0.010998866766766766\n",
      "Range                :  0.7399999999999998\n",
      "Maximum              :  3.71\n",
      "Minimum              :  2.97\n",
      "Kuartil               \n",
      "   25%               :  3.23\n",
      "   50%               :  3.3\n",
      "   75%               :  3.37\n",
      "IQR                  :  0.14000000000000012\n",
      "Skewness             :  0.14767259510827038\n",
      "Kurtosis             :  0.0809095518741838\n"
     ]
    }
   ],
   "source": [
    "# pH\n",
    "# Mean, median, modus, standar deviasi, variansi, range, minimum, maksimum, kuartil, IQR, skewness, kurtosis\n",
    "\n",
    "statdesc(\"pH\")"
   ]
  },
  {
   "cell_type": "code",
   "execution_count": 16,
   "metadata": {},
   "outputs": [
    {
     "name": "stdout",
     "output_type": "stream",
     "text": [
      "Deskripsi Statistika atribut Sulphates:\n",
      "\n",
      "Mean                 :  0.5983899999999999\n",
      "Median               :  0.595\n",
      "Mode                 :  0.59\n",
      "Standard Deviation   :  0.10081900799141187\n",
      "Variance             :  0.010164472372372372\n",
      "Range                :  0.6699999999999999\n",
      "Maximum              :  0.96\n",
      "Minimum              :  0.29\n",
      "Kuartil               \n",
      "   25%               :  0.53\n",
      "   50%               :  0.595\n",
      "   75%               :  0.67\n",
      "IQR                  :  0.14\n",
      "Skewness             :  0.1491989008699043\n",
      "Kurtosis             :  0.06481928180859686\n"
     ]
    }
   ],
   "source": [
    "# Sulphates\n",
    "# Mean, median, modus, standar deviasi, variansi, range, minimum, maksimum, kuartil, IQR, skewness, kurtosis\n",
    "\n",
    "statdesc(\"sulphates\")"
   ]
  },
  {
   "cell_type": "code",
   "execution_count": 17,
   "metadata": {},
   "outputs": [
    {
     "name": "stdout",
     "output_type": "stream",
     "text": [
      "Deskripsi Statistika atribut Alcohol:\n",
      "\n",
      "Mean                 :  10.592279999999999\n",
      "Median               :  10.61\n",
      "Mode                 :  9.86\n",
      "Standard Deviation   :  1.5107060052287586\n",
      "Variance             :  2.282232634234234\n",
      "Range                :  8.989999999999998\n",
      "Maximum              :  15.02\n",
      "Minimum              :  6.03\n",
      "Kuartil               \n",
      "   25%               :  9.56\n",
      "   50%               :  10.61\n",
      "   75%               :  11.622499999999999\n",
      "IQR                  :  2.0624999999999982\n",
      "Skewness             :  -0.01899140432111647\n",
      "Kurtosis             :  -0.13173155932281988\n"
     ]
    }
   ],
   "source": [
    "# Alcohol\n",
    "# Mean, median, modus, standar deviasi, variansi, range, minimum, maksimum, kuartil, IQR, skewness, kurtosis\n",
    "\n",
    "statdesc(\"alcohol\")"
   ]
  },
  {
   "cell_type": "code",
   "execution_count": 18,
   "metadata": {},
   "outputs": [
    {
     "name": "stdout",
     "output_type": "stream",
     "text": [
      "Deskripsi Statistika atribut Quality:\n",
      "\n",
      "Mean                 :  7.958\n",
      "Median               :  8.0\n",
      "Mode                 :  8\n",
      "Standard Deviation   :  0.9028017783827471\n",
      "Variance             :  0.8150510510510509\n",
      "Range                :  5.0\n",
      "Maximum              :  10.0\n",
      "Minimum              :  5.0\n",
      "Kuartil               \n",
      "   25%               :  7.0\n",
      "   50%               :  8.0\n",
      "   75%               :  9.0\n",
      "IQR                  :  2.0\n",
      "Skewness             :  -0.08905409122491781\n",
      "Kurtosis             :  0.10829100232871003\n"
     ]
    }
   ],
   "source": [
    "# Quality\n",
    "# Mean, median, modus, standar deviasi, variansi, range, minimum, maksimum, kuartil, IQR, skewness, kurtosis\n",
    "\n",
    "statdesc(\"quality\")"
   ]
  }
 ],
 "metadata": {
  "kernelspec": {
   "display_name": "Python 3",
   "language": "python",
   "name": "python3"
  },
  "language_info": {
   "codemirror_mode": {
    "name": "ipython",
    "version": 3
   },
   "file_extension": ".py",
   "mimetype": "text/x-python",
   "name": "python",
   "nbconvert_exporter": "python",
   "pygments_lexer": "ipython3",
   "version": "3.11.0"
  },
  "orig_nbformat": 4
 },
 "nbformat": 4,
 "nbformat_minor": 2
}
